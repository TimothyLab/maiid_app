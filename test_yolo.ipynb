{
 "cells": [
  {
   "cell_type": "code",
   "execution_count": 3,
   "metadata": {},
   "outputs": [],
   "source": [
    "from ultralytics import YOLO\n",
    "\n",
    "# Load a COCO-pretrained YOLOv8n model\n",
    "model = YOLO(\"weights/best.pt\")\n"
   ]
  },
  {
   "cell_type": "code",
   "execution_count": 4,
   "metadata": {},
   "outputs": [
    {
     "name": "stdout",
     "output_type": "stream",
     "text": [
      "Model summary: 365 layers, 43,630,611 parameters, 0 gradients, 165.4 GFLOPs\n"
     ]
    },
    {
     "data": {
      "text/plain": [
       "(365, 43630611, 0, 165.4030848)"
      ]
     },
     "execution_count": 4,
     "metadata": {},
     "output_type": "execute_result"
    }
   ],
   "source": [
    "# Display model information (optional)\n",
    "model.info()\n",
    "\n"
   ]
  },
  {
   "cell_type": "code",
   "execution_count": 5,
   "metadata": {},
   "outputs": [
    {
     "name": "stdout",
     "output_type": "stream",
     "text": [
      "\n",
      "image 1/1 /home/tlabidi/projet_11/MAIID-POSITIVE-IMAGES/c1f32616-b9a0-4fc1-a66f-0de251d80577.jpg: 1024x768 1 Moustique, 1857.7ms\n",
      "Speed: 7.1ms preprocess, 1857.7ms inference, 1.2ms postprocess per image at shape (1, 3, 1024, 768)\n"
     ]
    }
   ],
   "source": [
    "# Run inference with the YOLOv8n model on the 'bus.jpg' image\n",
    "results = model(\"/home/tlabidi/projet_11/MAIID-POSITIVE-IMAGES/c1f32616-b9a0-4fc1-a66f-0de251d80577.jpg\")"
   ]
  },
  {
   "cell_type": "code",
   "execution_count": 17,
   "metadata": {},
   "outputs": [
    {
     "name": "stdout",
     "output_type": "stream",
     "text": [
      "1226.407470703125 750.6167602539062 2828.398681640625 2392.49560546875\n",
      "0.8778659701347351\n",
      "0.0\n",
      "Moustique\n",
      "1\n"
     ]
    }
   ],
   "source": [
    "for result in results:\n",
    "        \n",
    "        for box in result.boxes:\n",
    "            # Récupère les coordonnées de la bounding box\n",
    "            x1, y1, x2, y2 = box.xyxy[0].tolist()\n",
    "            print(x1, y1, x2, y2)\n",
    "            # Récupère la probabilité et la classe détectée\n",
    "            confidence = box.conf[0].item()\n",
    "            print(confidence)\n",
    "            class_id = box.cls[0].item()\n",
    "            print(class_id)\n",
    "            class_name = model.names[class_id]  # Nom de la classe (espèce de moustique)\n",
    "            print(class_name)\n",
    "print(len(results))"
   ]
  },
  {
   "cell_type": "code",
   "execution_count": 35,
   "metadata": {},
   "outputs": [
    {
     "name": "stdout",
     "output_type": "stream",
     "text": [
      "\n",
      "image 1/1 /home/tlabidi/projet_11/MAIID-NEGATIVE-IMAGES/1fcf7b772200.jpg: 1024x1024 (no detections), 2526.9ms\n",
      "Speed: 21.7ms preprocess, 2526.9ms inference, 0.6ms postprocess per image at shape (1, 3, 1024, 1024)\n"
     ]
    }
   ],
   "source": [
    "# Run inference with the YOLOv8n model on the 'bus.jpg' image\n",
    "results_false = model(\"MAIID-NEGATIVE-IMAGES/1fcf7b772200.jpg\")"
   ]
  },
  {
   "cell_type": "code",
   "execution_count": 36,
   "metadata": {},
   "outputs": [
    {
     "data": {
      "text/plain": [
       "[ultralytics.engine.results.Results object with attributes:\n",
       " \n",
       " boxes: ultralytics.engine.results.Boxes object\n",
       " keypoints: None\n",
       " masks: None\n",
       " names: {0: 'Moustique'}\n",
       " obb: None\n",
       " orig_img: array([[[  8,  54,  25],\n",
       "         [  8,  54,  25],\n",
       "         [  5,  51,  22],\n",
       "         ...,\n",
       "         [117, 162, 145],\n",
       "         [116, 161, 144],\n",
       "         [115, 160, 144]],\n",
       " \n",
       "        [[  6,  52,  23],\n",
       "         [  7,  53,  24],\n",
       "         [  6,  52,  23],\n",
       "         ...,\n",
       "         [117, 162, 145],\n",
       "         [118, 163, 146],\n",
       "         [116, 163, 147]],\n",
       " \n",
       "        [[  5,  50,  23],\n",
       "         [  7,  52,  25],\n",
       "         [  7,  52,  25],\n",
       "         ...,\n",
       "         [120, 166, 147],\n",
       "         [119, 167, 149],\n",
       "         [121, 169, 151]],\n",
       " \n",
       "        ...,\n",
       " \n",
       "        [[  0,  23,   8],\n",
       "         [  0,  23,   8],\n",
       "         [  0,  23,   8],\n",
       "         ...,\n",
       "         [ 71, 152, 119],\n",
       "         [ 67, 148, 115],\n",
       "         [ 72, 153, 120]],\n",
       " \n",
       "        [[  0,  23,   8],\n",
       "         [  0,  23,   8],\n",
       "         [  0,  23,   8],\n",
       "         ...,\n",
       "         [ 77, 158, 125],\n",
       "         [ 69, 150, 117],\n",
       "         [ 75, 156, 123]],\n",
       " \n",
       "        [[  0,  23,   8],\n",
       "         [  0,  23,   8],\n",
       "         [  0,  23,   8],\n",
       "         ...,\n",
       "         [ 80, 164, 130],\n",
       "         [ 71, 155, 121],\n",
       "         [ 78, 162, 128]]], dtype=uint8)\n",
       " orig_shape: (983, 983)\n",
       " path: '/home/tlabidi/projet_11/MAIID-NEGATIVE-IMAGES/1fcf7b772200.jpg'\n",
       " probs: None\n",
       " save_dir: 'runs/detect/predict'\n",
       " speed: {'preprocess': 21.6677188873291, 'inference': 2526.857614517212, 'postprocess': 0.6470680236816406}]"
      ]
     },
     "execution_count": 36,
     "metadata": {},
     "output_type": "execute_result"
    }
   ],
   "source": [
    "results_false"
   ]
  },
  {
   "cell_type": "code",
   "execution_count": 39,
   "metadata": {},
   "outputs": [],
   "source": [
    "for result in results_false:\n",
    "        for box in result.boxes:\n",
    "            # Récupère les coordonnées de la bounding box\n",
    "            x1, y1, x2, y2 = box.xyxy[0].tolist()\n",
    "            print(x1, y1, x2, y2)\n",
    "            # Récupère la probabilité et la classe détectée\n",
    "            confidence = box.conf[0].item()\n",
    "            print(confidence)\n",
    "            class_id = box.cls[0].item()\n",
    "            print(class_id)\n",
    "            class_name = model.names[class_id]  # Nom de la classe (espèce de moustique)\n",
    "            print(class_name)"
   ]
  }
 ],
 "metadata": {
  "kernelspec": {
   "display_name": "Python 3",
   "language": "python",
   "name": "python3"
  },
  "language_info": {
   "codemirror_mode": {
    "name": "ipython",
    "version": 3
   },
   "file_extension": ".py",
   "mimetype": "text/x-python",
   "name": "python",
   "nbconvert_exporter": "python",
   "pygments_lexer": "ipython3",
   "version": "3.12.3"
  }
 },
 "nbformat": 4,
 "nbformat_minor": 2
}
